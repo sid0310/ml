{
  "nbformat": 4,
  "nbformat_minor": 0,
  "metadata": {
    "colab": {
      "name": "Untitled10.ipynb",
      "version": "0.3.2",
      "provenance": [],
      "collapsed_sections": [],
      "include_colab_link": true
    },
    "kernelspec": {
      "name": "python3",
      "display_name": "Python 3"
    }
  },
  "cells": [
    {
      "cell_type": "markdown",
      "metadata": {
        "id": "view-in-github",
        "colab_type": "text"
      },
      "source": [
        "<a href=\"https://colab.research.google.com/github/sid0310/ml/blob/sml/Untitled10.ipynb\" target=\"_parent\"><img src=\"https://colab.research.google.com/assets/colab-badge.svg\" alt=\"Open In Colab\"/></a>"
      ]
    },
    {
      "cell_type": "code",
      "metadata": {
        "id": "KWqEJ8OWeZYh",
        "colab_type": "code",
        "colab": {}
      },
      "source": [
        " import pandas as pd\n",
        " import matplotlib.pyplot as plt\n",
        " import numpy as np\n",
        " import seaborn as sb"
      ],
      "execution_count": 0,
      "outputs": []
    },
    {
      "cell_type": "code",
      "metadata": {
        "id": "77AQ326MtT1P",
        "colab_type": "code",
        "colab": {}
      },
      "source": [
        "data=pd.read_csv(\"http://13.234.66.67/summer19/datasets/bank.csv\")"
      ],
      "execution_count": 0,
      "outputs": []
    },
    {
      "cell_type": "code",
      "metadata": {
        "id": "Zty2Domdtf6y",
        "colab_type": "code",
        "colab": {}
      },
      "source": [
        "features=data.iloc[:,3:13].values\n",
        "\n"
      ],
      "execution_count": 0,
      "outputs": []
    },
    {
      "cell_type": "code",
      "metadata": {
        "id": "c0-G9w7otuJ3",
        "colab_type": "code",
        "outputId": "09bd940b-b87e-4af5-9109-fa55bbb8b8f7",
        "colab": {
          "base_uri": "https://localhost:8080/",
          "height": 134
        }
      },
      "source": [
        "features"
      ],
      "execution_count": 390,
      "outputs": [
        {
          "output_type": "execute_result",
          "data": {
            "text/plain": [
              "array([[619, 'France', 'Female', ..., 1, 1, 101348.88],\n",
              "       [608, 'Spain', 'Female', ..., 0, 1, 112542.58],\n",
              "       [502, 'France', 'Female', ..., 1, 0, 113931.57],\n",
              "       ...,\n",
              "       [709, 'France', 'Female', ..., 0, 1, 42085.58],\n",
              "       [772, 'Germany', 'Male', ..., 1, 0, 92888.52],\n",
              "       [792, 'France', 'Female', ..., 1, 0, 38190.78]], dtype=object)"
            ]
          },
          "metadata": {
            "tags": []
          },
          "execution_count": 390
        }
      ]
    },
    {
      "cell_type": "code",
      "metadata": {
        "id": "nGD9LgivvROj",
        "colab_type": "code",
        "outputId": "b37f7f0e-8dc1-4cea-e3d1-b4a44c4212fb",
        "colab": {
          "base_uri": "https://localhost:8080/",
          "height": 215
        }
      },
      "source": [
        "data.head(5)"
      ],
      "execution_count": 391,
      "outputs": [
        {
          "output_type": "execute_result",
          "data": {
            "text/html": [
              "<div>\n",
              "<style scoped>\n",
              "    .dataframe tbody tr th:only-of-type {\n",
              "        vertical-align: middle;\n",
              "    }\n",
              "\n",
              "    .dataframe tbody tr th {\n",
              "        vertical-align: top;\n",
              "    }\n",
              "\n",
              "    .dataframe thead th {\n",
              "        text-align: right;\n",
              "    }\n",
              "</style>\n",
              "<table border=\"1\" class=\"dataframe\">\n",
              "  <thead>\n",
              "    <tr style=\"text-align: right;\">\n",
              "      <th></th>\n",
              "      <th>RowNumber</th>\n",
              "      <th>CustomerId</th>\n",
              "      <th>Surname</th>\n",
              "      <th>CreditScore</th>\n",
              "      <th>Geography</th>\n",
              "      <th>Gender</th>\n",
              "      <th>Age</th>\n",
              "      <th>Tenure</th>\n",
              "      <th>Balance</th>\n",
              "      <th>NumOfProducts</th>\n",
              "      <th>HasCrCard</th>\n",
              "      <th>IsActiveMember</th>\n",
              "      <th>EstimatedSalary</th>\n",
              "      <th>Exited</th>\n",
              "    </tr>\n",
              "  </thead>\n",
              "  <tbody>\n",
              "    <tr>\n",
              "      <th>0</th>\n",
              "      <td>1</td>\n",
              "      <td>15634602</td>\n",
              "      <td>Hargrave</td>\n",
              "      <td>619</td>\n",
              "      <td>France</td>\n",
              "      <td>Female</td>\n",
              "      <td>42</td>\n",
              "      <td>2</td>\n",
              "      <td>0.00</td>\n",
              "      <td>1</td>\n",
              "      <td>1</td>\n",
              "      <td>1</td>\n",
              "      <td>101348.88</td>\n",
              "      <td>1</td>\n",
              "    </tr>\n",
              "    <tr>\n",
              "      <th>1</th>\n",
              "      <td>2</td>\n",
              "      <td>15647311</td>\n",
              "      <td>Hill</td>\n",
              "      <td>608</td>\n",
              "      <td>Spain</td>\n",
              "      <td>Female</td>\n",
              "      <td>41</td>\n",
              "      <td>1</td>\n",
              "      <td>83807.86</td>\n",
              "      <td>1</td>\n",
              "      <td>0</td>\n",
              "      <td>1</td>\n",
              "      <td>112542.58</td>\n",
              "      <td>0</td>\n",
              "    </tr>\n",
              "    <tr>\n",
              "      <th>2</th>\n",
              "      <td>3</td>\n",
              "      <td>15619304</td>\n",
              "      <td>Onio</td>\n",
              "      <td>502</td>\n",
              "      <td>France</td>\n",
              "      <td>Female</td>\n",
              "      <td>42</td>\n",
              "      <td>8</td>\n",
              "      <td>159660.80</td>\n",
              "      <td>3</td>\n",
              "      <td>1</td>\n",
              "      <td>0</td>\n",
              "      <td>113931.57</td>\n",
              "      <td>1</td>\n",
              "    </tr>\n",
              "    <tr>\n",
              "      <th>3</th>\n",
              "      <td>4</td>\n",
              "      <td>15701354</td>\n",
              "      <td>Boni</td>\n",
              "      <td>699</td>\n",
              "      <td>France</td>\n",
              "      <td>Female</td>\n",
              "      <td>39</td>\n",
              "      <td>1</td>\n",
              "      <td>0.00</td>\n",
              "      <td>2</td>\n",
              "      <td>0</td>\n",
              "      <td>0</td>\n",
              "      <td>93826.63</td>\n",
              "      <td>0</td>\n",
              "    </tr>\n",
              "    <tr>\n",
              "      <th>4</th>\n",
              "      <td>5</td>\n",
              "      <td>15737888</td>\n",
              "      <td>Mitchell</td>\n",
              "      <td>850</td>\n",
              "      <td>Spain</td>\n",
              "      <td>Female</td>\n",
              "      <td>43</td>\n",
              "      <td>2</td>\n",
              "      <td>125510.82</td>\n",
              "      <td>1</td>\n",
              "      <td>1</td>\n",
              "      <td>1</td>\n",
              "      <td>79084.10</td>\n",
              "      <td>0</td>\n",
              "    </tr>\n",
              "  </tbody>\n",
              "</table>\n",
              "</div>"
            ],
            "text/plain": [
              "   RowNumber  CustomerId   Surname  ...  IsActiveMember EstimatedSalary Exited\n",
              "0          1    15634602  Hargrave  ...               1       101348.88      1\n",
              "1          2    15647311      Hill  ...               1       112542.58      0\n",
              "2          3    15619304      Onio  ...               0       113931.57      1\n",
              "3          4    15701354      Boni  ...               0        93826.63      0\n",
              "4          5    15737888  Mitchell  ...               1        79084.10      0\n",
              "\n",
              "[5 rows x 14 columns]"
            ]
          },
          "metadata": {
            "tags": []
          },
          "execution_count": 391
        }
      ]
    },
    {
      "cell_type": "code",
      "metadata": {
        "id": "sP0o4t2VzYQ9",
        "colab_type": "code",
        "outputId": "9c5af729-b15b-45fb-a42d-03c7d909a708",
        "colab": {
          "base_uri": "https://localhost:8080/",
          "height": 300
        }
      },
      "source": [
        "#countplot by seaborn\n",
        "sb.countplot(data['Geography'])"
      ],
      "execution_count": 392,
      "outputs": [
        {
          "output_type": "execute_result",
          "data": {
            "text/plain": [
              "<matplotlib.axes._subplots.AxesSubplot at 0x7fa8a8e6b860>"
            ]
          },
          "metadata": {
            "tags": []
          },
          "execution_count": 392
        },
        {
          "output_type": "display_data",
          "data": {
            "image/png": "[encoded data removed]",
            "text/plain": [
              "<Figure size 432x288 with 1 Axes>"
            ]
          },
          "metadata": {
            "tags": []
          }
        }
      ]
    },
    {
      "cell_type": "code",
      "metadata": {
        "id": "CfCwMmzNz16V",
        "colab_type": "code",
        "colab": {}
      },
      "source": [
        ""
      ],
      "execution_count": 0,
      "outputs": []
    },
    {
      "cell_type": "code",
      "metadata": {
        "id": "1UUtPk5l0Vlx",
        "colab_type": "code",
        "colab": {
          "base_uri": "https://localhost:8080/",
          "height": 34
        },
        "outputId": "ea6d1ea4-e5f0-4891-b0a9-5e9cd14d6827"
      },
      "source": [
        "#bank exist status\n",
        "label=data.iloc[:,13].values\n",
        "label.shape"
      ],
      "execution_count": 393,
      "outputs": [
        {
          "output_type": "execute_result",
          "data": {
            "text/plain": [
              "(10000,)"
            ]
          },
          "metadata": {
            "tags": []
          },
          "execution_count": 393
        }
      ]
    },
    {
      "cell_type": "code",
      "metadata": {
        "id": "byGpPfjM1ej5",
        "colab_type": "code",
        "colab": {}
      },
      "source": [
        "#to convert string data we can applyy label encoding\n",
        "from sklearn.preprocessing import LabelEncoder"
      ],
      "execution_count": 0,
      "outputs": []
    },
    {
      "cell_type": "code",
      "metadata": {
        "id": "HeXZc8n618PU",
        "colab_type": "code",
        "colab": {}
      },
      "source": [
        "contenc=LabelEncoder()"
      ],
      "execution_count": 0,
      "outputs": []
    },
    {
      "cell_type": "code",
      "metadata": {
        "id": "xV2prmzx2JC7",
        "colab_type": "code",
        "colab": {}
      },
      "source": [
        "features[:,1]=contenc.fit_transform(features[:,1])"
      ],
      "execution_count": 0,
      "outputs": []
    },
    {
      "cell_type": "code",
      "metadata": {
        "id": "zQ4QMZuW2Xfg",
        "colab_type": "code",
        "outputId": "96097f6d-ad0d-4da2-93a9-53890fe3218c",
        "colab": {
          "base_uri": "https://localhost:8080/",
          "height": 134
        }
      },
      "source": [
        "features"
      ],
      "execution_count": 397,
      "outputs": [
        {
          "output_type": "execute_result",
          "data": {
            "text/plain": [
              "array([[619, 0, 'Female', ..., 1, 1, 101348.88],\n",
              "       [608, 2, 'Female', ..., 0, 1, 112542.58],\n",
              "       [502, 0, 'Female', ..., 1, 0, 113931.57],\n",
              "       ...,\n",
              "       [709, 0, 'Female', ..., 0, 1, 42085.58],\n",
              "       [772, 1, 'Male', ..., 1, 0, 92888.52],\n",
              "       [792, 0, 'Female', ..., 1, 0, 38190.78]], dtype=object)"
            ]
          },
          "metadata": {
            "tags": []
          },
          "execution_count": 397
        }
      ]
    },
    {
      "cell_type": "code",
      "metadata": {
        "id": "2-Afts1D2eM6",
        "colab_type": "code",
        "colab": {}
      },
      "source": [
        "features[:,2]=contenc.fit_transform(features[:,2])"
      ],
      "execution_count": 0,
      "outputs": []
    },
    {
      "cell_type": "code",
      "metadata": {
        "id": "rHVxTyw12mSb",
        "colab_type": "code",
        "outputId": "672a84cb-d650-41a9-a4e7-f89c9dd34b5c",
        "colab": {
          "base_uri": "https://localhost:8080/",
          "height": 34
        }
      },
      "source": [
        "features.shape\n"
      ],
      "execution_count": 399,
      "outputs": [
        {
          "output_type": "execute_result",
          "data": {
            "text/plain": [
              "(10000, 10)"
            ]
          },
          "metadata": {
            "tags": []
          },
          "execution_count": 399
        }
      ]
    },
    {
      "cell_type": "code",
      "metadata": {
        "id": "dIPb_mnp2nkT",
        "colab_type": "code",
        "colab": {}
      },
      "source": [
        "from sklearn.preprocessing import OneHotEncoder"
      ],
      "execution_count": 0,
      "outputs": []
    },
    {
      "cell_type": "code",
      "metadata": {
        "id": "jkh8u6Ix3vcS",
        "colab_type": "code",
        "colab": {}
      },
      "source": [
        "countryhot=OneHotEncoder(categorical_features=[1])"
      ],
      "execution_count": 0,
      "outputs": []
    },
    {
      "cell_type": "code",
      "metadata": {
        "id": "P1KIbTvh4KpR",
        "colab_type": "code",
        "outputId": "6939c536-782c-4e80-e5ad-6685250e635a",
        "colab": {
          "base_uri": "https://localhost:8080/",
          "height": 138
        }
      },
      "source": [
        "features=countryhot.fit_transform(features).toarray()\n",
        "features.astype(int)\n",
        "features=features[:,1:]\n",
        "features=features.astype(int)"
      ],
      "execution_count": 402,
      "outputs": [
        {
          "output_type": "stream",
          "text": [
            "/usr/local/lib/python3.6/dist-packages/sklearn/preprocessing/_encoders.py:415: FutureWarning: The handling of integer data will change in version 0.22. Currently, the categories are determined based on the range [0, max(values)], while in the future they will be determined based on the unique values.\n",
            "If you want the future behaviour and silence this warning, you can specify \"categories='auto'\".\n",
            "In case you used a LabelEncoder before this OneHotEncoder to convert the categories to integers, then you can now use the OneHotEncoder directly.\n",
            "  warnings.warn(msg, FutureWarning)\n",
            "/usr/local/lib/python3.6/dist-packages/sklearn/preprocessing/_encoders.py:451: DeprecationWarning: The 'categorical_features' keyword is deprecated in version 0.20 and will be removed in 0.22. You can use the ColumnTransformer instead.\n",
            "  \"use the ColumnTransformer instead.\", DeprecationWarning)\n"
          ],
          "name": "stderr"
        }
      ]
    },
    {
      "cell_type": "code",
      "metadata": {
        "id": "_HIubuUc4SsI",
        "colab_type": "code",
        "outputId": "9c898db9-b887-430d-d839-0ef666b91e89",
        "colab": {
          "base_uri": "https://localhost:8080/",
          "height": 134
        }
      },
      "source": [
        "features"
      ],
      "execution_count": 403,
      "outputs": [
        {
          "output_type": "execute_result",
          "data": {
            "text/plain": [
              "array([[     0,      0,    619, ...,      1,      1, 101348],\n",
              "       [     0,      1,    608, ...,      0,      1, 112542],\n",
              "       [     0,      0,    502, ...,      1,      0, 113931],\n",
              "       ...,\n",
              "       [     0,      0,    709, ...,      0,      1,  42085],\n",
              "       [     1,      0,    772, ...,      1,      0,  92888],\n",
              "       [     0,      0,    792, ...,      1,      0,  38190]])"
            ]
          },
          "metadata": {
            "tags": []
          },
          "execution_count": 403
        }
      ]
    },
    {
      "cell_type": "code",
      "metadata": {
        "id": "9J7yJpcz5DnU",
        "colab_type": "code",
        "colab": {}
      },
      "source": [
        "from sklearn.model_selection import train_test_split"
      ],
      "execution_count": 0,
      "outputs": []
    },
    {
      "cell_type": "code",
      "metadata": {
        "id": "TQHTrEGF7Thk",
        "colab_type": "code",
        "colab": {}
      },
      "source": [
        "X,x,Y,y=train_test_split(features,label,test_size=0.2)"
      ],
      "execution_count": 0,
      "outputs": []
    },
    {
      "cell_type": "code",
      "metadata": {
        "id": "jtmJmfw-7u-M",
        "colab_type": "code",
        "colab": {}
      },
      "source": [
        "# with ann we should do feature scaling"
      ],
      "execution_count": 0,
      "outputs": []
    },
    {
      "cell_type": "code",
      "metadata": {
        "id": "ITjKhim97_Rn",
        "colab_type": "code",
        "colab": {}
      },
      "source": [
        "from sklearn.preprocessing import StandardScaler"
      ],
      "execution_count": 0,
      "outputs": []
    },
    {
      "cell_type": "code",
      "metadata": {
        "id": "IfhqGReG8FtN",
        "colab_type": "code",
        "colab": {}
      },
      "source": [
        "sc=StandardScaler()"
      ],
      "execution_count": 0,
      "outputs": []
    },
    {
      "cell_type": "code",
      "metadata": {
        "id": "cDk1wLtC8IIX",
        "colab_type": "code",
        "colab": {}
      },
      "source": [
        "#training data scale\n",
        "X=sc.fit_transform(X)"
      ],
      "execution_count": 0,
      "outputs": []
    },
    {
      "cell_type": "code",
      "metadata": {
        "id": "OPj5VCxF8WIC",
        "colab_type": "code",
        "colab": {}
      },
      "source": [
        "#twsting data\n",
        "x=sc.transform(x)"
      ],
      "execution_count": 0,
      "outputs": []
    },
    {
      "cell_type": "code",
      "metadata": {
        "id": "J_ZlUwcz8dWH",
        "colab_type": "code",
        "colab": {
          "base_uri": "https://localhost:8080/",
          "height": 34
        },
        "outputId": "dfa98134-6503-4d5c-a64c-b8fcaf25c72b"
      },
      "source": [
        "#no of attribute\n",
        "X.shape\n"
      ],
      "execution_count": 411,
      "outputs": [
        {
          "output_type": "execute_result",
          "data": {
            "text/plain": [
              "(8000, 11)"
            ]
          },
          "metadata": {
            "tags": []
          },
          "execution_count": 411
        }
      ]
    },
    {
      "cell_type": "code",
      "metadata": {
        "id": "HIBTjhBr8nP3",
        "colab_type": "code",
        "colab": {}
      },
      "source": [
        "#now we can create ann model"
      ],
      "execution_count": 0,
      "outputs": []
    },
    {
      "cell_type": "code",
      "metadata": {
        "id": "xqdTXyph8pcA",
        "colab_type": "code",
        "colab": {}
      },
      "source": [
        "import keras #this is the way importing tensorflow in background"
      ],
      "execution_count": 0,
      "outputs": []
    },
    {
      "cell_type": "code",
      "metadata": {
        "id": "aSvyqmIUCCYG",
        "colab_type": "code",
        "colab": {}
      },
      "source": [
        "# tensor flow or keras ann model"
      ],
      "execution_count": 0,
      "outputs": []
    },
    {
      "cell_type": "code",
      "metadata": {
        "id": "AvRm--F-CUb6",
        "colab_type": "code",
        "colab": {}
      },
      "source": [
        "from keras.models import Sequential"
      ],
      "execution_count": 0,
      "outputs": []
    },
    {
      "cell_type": "code",
      "metadata": {
        "id": "_00eUa6kCeCC",
        "colab_type": "code",
        "colab": {}
      },
      "source": [
        "#filling data in each layer\n",
        "from keras.layers import Dense\n",
        "#this will create or give the method to decide activation function and number of nodes in each layer \n",
        "#including input ,hidden and output layer"
      ],
      "execution_count": 0,
      "outputs": []
    },
    {
      "cell_type": "code",
      "metadata": {
        "id": "N9qvUE7UDIUN",
        "colab_type": "code",
        "colab": {}
      },
      "source": [
        "# now we can design model\n",
        "model=Sequential()\n",
        "\n"
      ],
      "execution_count": 0,
      "outputs": []
    },
    {
      "cell_type": "code",
      "metadata": {
        "id": "bwkbPb0PDeMX",
        "colab_type": "code",
        "colab": {}
      },
      "source": [
        "#now you can add input layer\n",
        "model.add(Dense(6,input_shape=(11,),activation=\"relu\"))\n",
        "# this relu means activation function\n"
      ],
      "execution_count": 0,
      "outputs": []
    },
    {
      "cell_type": "code",
      "metadata": {
        "id": "Uqo9naDeEwag",
        "colab_type": "code",
        "colab": {}
      },
      "source": [
        "#adding one more hidden layer\n",
        "for i in range(10):\n",
        "    model.add(Dense(6,activation=\"relu\"))\n",
        "#note we dont have to assign no of input after first /input layer"
      ],
      "execution_count": 0,
      "outputs": []
    },
    {
      "cell_type": "code",
      "metadata": {
        "id": "O367-_q8Ggll",
        "colab_type": "code",
        "colab": {}
      },
      "source": [
        "#final layer adding \n",
        "model.add(Dense(1,activation=\"sigmoid\"))"
      ],
      "execution_count": 0,
      "outputs": []
    },
    {
      "cell_type": "code",
      "metadata": {
        "id": "rwr8RYqZG-p2",
        "colab_type": "code",
        "colab": {}
      },
      "source": [
        "#compile \n",
        "model.compile(optimizer=\"adam\",loss='binary_crossentropy',metrics=['accuracy'])\n",
        "# optimizer --weight adjust method --stochitis gd adam"
      ],
      "execution_count": 0,
      "outputs": []
    },
    {
      "cell_type": "code",
      "metadata": {
        "id": "S_WXp0BGIyUs",
        "colab_type": "code",
        "colab": {
          "base_uri": "https://localhost:8080/",
          "height": 1000
        },
        "outputId": "3433b9ff-d208-4821-c046-b02af06ba4ce"
      },
      "source": [
        "#training data fit \n",
        "model.model.fit(X,Y,batch_size=20,epochs=100)"
      ],
      "execution_count": 422,
      "outputs": [
        {
          "output_type": "stream",
          "text": [
            "/usr/local/lib/python3.6/dist-packages/keras/engine/sequential.py:110: UserWarning: `Sequential.model` is deprecated. `Sequential` is a subclass of `Model`, you can just use your `Sequential` instance directly.\n",
            "  warnings.warn('`Sequential.model` is deprecated. '\n"
          ],
          "name": "stderr"
        },
        {
          "output_type": "stream",
          "text": [
            "Epoch 1/100\n",
            "8000/8000 [==============================] - 1s 175us/step - loss: 0.5065 - acc: 0.7966\n",
            "Epoch 2/100\n",
            "8000/8000 [==============================] - 1s 88us/step - loss: 0.4564 - acc: 0.7966\n",
            "Epoch 3/100\n",
            "8000/8000 [==============================] - 1s 85us/step - loss: 0.4374 - acc: 0.7966\n",
            "Epoch 4/100\n",
            "8000/8000 [==============================] - 1s 89us/step - loss: 0.4267 - acc: 0.7966\n",
            "Epoch 5/100\n",
            "8000/8000 [==============================] - 1s 85us/step - loss: 0.4185 - acc: 0.8098\n",
            "Epoch 6/100\n",
            "8000/8000 [==============================] - 1s 87us/step - loss: 0.4111 - acc: 0.8211\n",
            "Epoch 7/100\n",
            "8000/8000 [==============================] - 1s 91us/step - loss: 0.4031 - acc: 0.8271\n",
            "Epoch 8/100\n",
            "8000/8000 [==============================] - 1s 86us/step - loss: 0.3933 - acc: 0.8369\n",
            "Epoch 9/100\n",
            "8000/8000 [==============================] - 1s 85us/step - loss: 0.3806 - acc: 0.8459\n",
            "Epoch 10/100\n",
            "8000/8000 [==============================] - 1s 86us/step - loss: 0.3710 - acc: 0.8479\n",
            "Epoch 11/100\n",
            "8000/8000 [==============================] - 1s 85us/step - loss: 0.3619 - acc: 0.8550\n",
            "Epoch 12/100\n",
            "8000/8000 [==============================] - 1s 85us/step - loss: 0.3560 - acc: 0.8595\n",
            "Epoch 13/100\n",
            "8000/8000 [==============================] - 1s 86us/step - loss: 0.3539 - acc: 0.8574\n",
            "Epoch 14/100\n",
            "8000/8000 [==============================] - 1s 85us/step - loss: 0.3522 - acc: 0.8587\n",
            "Epoch 15/100\n",
            "8000/8000 [==============================] - 1s 87us/step - loss: 0.3489 - acc: 0.8604\n",
            "Epoch 16/100\n",
            "8000/8000 [==============================] - 1s 86us/step - loss: 0.3462 - acc: 0.8614\n",
            "Epoch 17/100\n",
            "8000/8000 [==============================] - 1s 87us/step - loss: 0.3450 - acc: 0.8617\n",
            "Epoch 18/100\n",
            "8000/8000 [==============================] - 1s 86us/step - loss: 0.3436 - acc: 0.8601\n",
            "Epoch 19/100\n",
            "8000/8000 [==============================] - 1s 88us/step - loss: 0.3423 - acc: 0.8627\n",
            "Epoch 20/100\n",
            "8000/8000 [==============================] - 1s 87us/step - loss: 0.3420 - acc: 0.8597\n",
            "Epoch 21/100\n",
            "8000/8000 [==============================] - 1s 85us/step - loss: 0.3411 - acc: 0.8623\n",
            "Epoch 22/100\n",
            "8000/8000 [==============================] - 1s 88us/step - loss: 0.3415 - acc: 0.8628\n",
            "Epoch 23/100\n",
            "8000/8000 [==============================] - 1s 86us/step - loss: 0.3406 - acc: 0.8624\n",
            "Epoch 24/100\n",
            "8000/8000 [==============================] - 1s 87us/step - loss: 0.3395 - acc: 0.8618\n",
            "Epoch 25/100\n",
            "8000/8000 [==============================] - 1s 88us/step - loss: 0.3399 - acc: 0.8615\n",
            "Epoch 26/100\n",
            "8000/8000 [==============================] - 1s 85us/step - loss: 0.3387 - acc: 0.8625\n",
            "Epoch 27/100\n",
            "8000/8000 [==============================] - 1s 87us/step - loss: 0.3390 - acc: 0.8640\n",
            "Epoch 28/100\n",
            "8000/8000 [==============================] - 1s 86us/step - loss: 0.3371 - acc: 0.8637\n",
            "Epoch 29/100\n",
            "8000/8000 [==============================] - 1s 85us/step - loss: 0.3377 - acc: 0.8626\n",
            "Epoch 30/100\n",
            "8000/8000 [==============================] - 1s 86us/step - loss: 0.3377 - acc: 0.8636\n",
            "Epoch 31/100\n",
            "8000/8000 [==============================] - 1s 87us/step - loss: 0.3376 - acc: 0.8624\n",
            "Epoch 32/100\n",
            "8000/8000 [==============================] - 1s 86us/step - loss: 0.3371 - acc: 0.8653\n",
            "Epoch 33/100\n",
            "8000/8000 [==============================] - 1s 86us/step - loss: 0.3370 - acc: 0.8621\n",
            "Epoch 34/100\n",
            "8000/8000 [==============================] - 1s 86us/step - loss: 0.3367 - acc: 0.8626\n",
            "Epoch 35/100\n",
            "8000/8000 [==============================] - 1s 88us/step - loss: 0.3372 - acc: 0.8655\n",
            "Epoch 36/100\n",
            "8000/8000 [==============================] - 1s 87us/step - loss: 0.3350 - acc: 0.8654\n",
            "Epoch 37/100\n",
            "8000/8000 [==============================] - 1s 86us/step - loss: 0.3355 - acc: 0.8635\n",
            "Epoch 38/100\n",
            "8000/8000 [==============================] - 1s 86us/step - loss: 0.3347 - acc: 0.8644\n",
            "Epoch 39/100\n",
            "8000/8000 [==============================] - 1s 86us/step - loss: 0.3348 - acc: 0.8636\n",
            "Epoch 40/100\n",
            "8000/8000 [==============================] - 1s 86us/step - loss: 0.3357 - acc: 0.8646\n",
            "Epoch 41/100\n",
            "8000/8000 [==============================] - 1s 86us/step - loss: 0.3358 - acc: 0.8637\n",
            "Epoch 42/100\n",
            "8000/8000 [==============================] - 1s 87us/step - loss: 0.3344 - acc: 0.8631\n",
            "Epoch 43/100\n",
            "8000/8000 [==============================] - 1s 85us/step - loss: 0.3337 - acc: 0.8644\n",
            "Epoch 44/100\n",
            "8000/8000 [==============================] - 1s 85us/step - loss: 0.3337 - acc: 0.8649\n",
            "Epoch 45/100\n",
            "8000/8000 [==============================] - 1s 86us/step - loss: 0.3330 - acc: 0.8655\n",
            "Epoch 46/100\n",
            "8000/8000 [==============================] - 1s 86us/step - loss: 0.3340 - acc: 0.8642\n",
            "Epoch 47/100\n",
            "8000/8000 [==============================] - 1s 87us/step - loss: 0.3326 - acc: 0.8660\n",
            "Epoch 48/100\n",
            "8000/8000 [==============================] - 1s 86us/step - loss: 0.3336 - acc: 0.8645\n",
            "Epoch 49/100\n",
            "8000/8000 [==============================] - 1s 88us/step - loss: 0.3318 - acc: 0.8637\n",
            "Epoch 50/100\n",
            "8000/8000 [==============================] - 1s 87us/step - loss: 0.3325 - acc: 0.8635\n",
            "Epoch 51/100\n",
            "8000/8000 [==============================] - 1s 85us/step - loss: 0.3322 - acc: 0.8664\n",
            "Epoch 52/100\n",
            "8000/8000 [==============================] - 1s 88us/step - loss: 0.3320 - acc: 0.8650\n",
            "Epoch 53/100\n",
            "8000/8000 [==============================] - 1s 87us/step - loss: 0.3332 - acc: 0.8654\n",
            "Epoch 54/100\n",
            "8000/8000 [==============================] - 1s 85us/step - loss: 0.3310 - acc: 0.8646\n",
            "Epoch 55/100\n",
            "8000/8000 [==============================] - 1s 85us/step - loss: 0.3324 - acc: 0.8642\n",
            "Epoch 56/100\n",
            "8000/8000 [==============================] - 1s 86us/step - loss: 0.3314 - acc: 0.8636\n",
            "Epoch 57/100\n",
            "8000/8000 [==============================] - 1s 87us/step - loss: 0.3320 - acc: 0.8651\n",
            "Epoch 58/100\n",
            "8000/8000 [==============================] - 1s 86us/step - loss: 0.3317 - acc: 0.8647\n",
            "Epoch 59/100\n",
            "8000/8000 [==============================] - 1s 86us/step - loss: 0.3313 - acc: 0.8644\n",
            "Epoch 60/100\n",
            "8000/8000 [==============================] - 1s 85us/step - loss: 0.3315 - acc: 0.8660\n",
            "Epoch 61/100\n",
            "8000/8000 [==============================] - 1s 86us/step - loss: 0.3310 - acc: 0.8650\n",
            "Epoch 62/100\n",
            "8000/8000 [==============================] - 1s 87us/step - loss: 0.3312 - acc: 0.8642\n",
            "Epoch 63/100\n",
            "8000/8000 [==============================] - 1s 87us/step - loss: 0.3302 - acc: 0.8661\n",
            "Epoch 64/100\n",
            "8000/8000 [==============================] - 1s 86us/step - loss: 0.3303 - acc: 0.8661\n",
            "Epoch 65/100\n",
            "8000/8000 [==============================] - 1s 86us/step - loss: 0.3298 - acc: 0.8646\n",
            "Epoch 66/100\n",
            "8000/8000 [==============================] - 1s 89us/step - loss: 0.3293 - acc: 0.8667\n",
            "Epoch 67/100\n",
            "8000/8000 [==============================] - 1s 85us/step - loss: 0.3294 - acc: 0.8655\n",
            "Epoch 68/100\n",
            "8000/8000 [==============================] - 1s 88us/step - loss: 0.3300 - acc: 0.8652\n",
            "Epoch 69/100\n",
            "8000/8000 [==============================] - 1s 87us/step - loss: 0.3293 - acc: 0.8664\n",
            "Epoch 70/100\n",
            "8000/8000 [==============================] - 1s 85us/step - loss: 0.3271 - acc: 0.8680\n",
            "Epoch 71/100\n",
            "8000/8000 [==============================] - 1s 85us/step - loss: 0.3281 - acc: 0.8654\n",
            "Epoch 72/100\n",
            "8000/8000 [==============================] - 1s 86us/step - loss: 0.3285 - acc: 0.8666\n",
            "Epoch 73/100\n",
            "8000/8000 [==============================] - 1s 85us/step - loss: 0.3283 - acc: 0.8664\n",
            "Epoch 74/100\n",
            "8000/8000 [==============================] - 1s 86us/step - loss: 0.3272 - acc: 0.8664\n",
            "Epoch 75/100\n",
            "8000/8000 [==============================] - 1s 87us/step - loss: 0.3280 - acc: 0.8659\n",
            "Epoch 76/100\n",
            "8000/8000 [==============================] - 1s 87us/step - loss: 0.3279 - acc: 0.8661\n",
            "Epoch 77/100\n",
            "8000/8000 [==============================] - 1s 86us/step - loss: 0.3271 - acc: 0.8671\n",
            "Epoch 78/100\n",
            "8000/8000 [==============================] - 1s 86us/step - loss: 0.3260 - acc: 0.8680\n",
            "Epoch 79/100\n",
            "8000/8000 [==============================] - 1s 85us/step - loss: 0.3266 - acc: 0.8670\n",
            "Epoch 80/100\n",
            "8000/8000 [==============================] - 1s 86us/step - loss: 0.3260 - acc: 0.8669\n",
            "Epoch 81/100\n",
            "8000/8000 [==============================] - 1s 88us/step - loss: 0.3269 - acc: 0.8654\n",
            "Epoch 82/100\n",
            "8000/8000 [==============================] - 1s 86us/step - loss: 0.3252 - acc: 0.8667\n",
            "Epoch 83/100\n",
            "8000/8000 [==============================] - 1s 85us/step - loss: 0.3254 - acc: 0.8675\n",
            "Epoch 84/100\n",
            "8000/8000 [==============================] - 1s 85us/step - loss: 0.3257 - acc: 0.8656\n",
            "Epoch 85/100\n",
            "8000/8000 [==============================] - 1s 86us/step - loss: 0.3254 - acc: 0.8660\n",
            "Epoch 86/100\n",
            "8000/8000 [==============================] - 1s 86us/step - loss: 0.3252 - acc: 0.8672\n",
            "Epoch 87/100\n",
            "8000/8000 [==============================] - 1s 86us/step - loss: 0.3240 - acc: 0.8667\n",
            "Epoch 88/100\n",
            "8000/8000 [==============================] - 1s 85us/step - loss: 0.3255 - acc: 0.8684\n",
            "Epoch 89/100\n",
            "8000/8000 [==============================] - 1s 87us/step - loss: 0.3245 - acc: 0.8691\n",
            "Epoch 90/100\n",
            "8000/8000 [==============================] - 1s 87us/step - loss: 0.3234 - acc: 0.8676\n",
            "Epoch 91/100\n",
            "8000/8000 [==============================] - 1s 86us/step - loss: 0.3245 - acc: 0.8667\n",
            "Epoch 92/100\n",
            "8000/8000 [==============================] - 1s 85us/step - loss: 0.3248 - acc: 0.8662\n",
            "Epoch 93/100\n",
            "8000/8000 [==============================] - 1s 85us/step - loss: 0.3244 - acc: 0.8662\n",
            "Epoch 94/100\n",
            "8000/8000 [==============================] - 1s 86us/step - loss: 0.3251 - acc: 0.8677\n",
            "Epoch 95/100\n",
            "8000/8000 [==============================] - 1s 87us/step - loss: 0.3241 - acc: 0.8680\n",
            "Epoch 96/100\n",
            "8000/8000 [==============================] - 1s 85us/step - loss: 0.3233 - acc: 0.8667\n",
            "Epoch 97/100\n",
            "8000/8000 [==============================] - 1s 88us/step - loss: 0.3230 - acc: 0.8672\n",
            "Epoch 98/100\n",
            "8000/8000 [==============================] - 1s 86us/step - loss: 0.3230 - acc: 0.8675\n",
            "Epoch 99/100\n",
            "8000/8000 [==============================] - 1s 87us/step - loss: 0.3227 - acc: 0.8691\n",
            "Epoch 100/100\n",
            "8000/8000 [==============================] - 1s 86us/step - loss: 0.3232 - acc: 0.8675\n"
          ],
          "name": "stdout"
        },
        {
          "output_type": "execute_result",
          "data": {
            "text/plain": [
              "<keras.callbacks.History at 0x7fa8a8beadd8>"
            ]
          },
          "metadata": {
            "tags": []
          },
          "execution_count": 422
        }
      ]
    },
    {
      "cell_type": "code",
      "metadata": {
        "id": "Kpgw29LEJ7-1",
        "colab_type": "code",
        "colab": {
          "base_uri": "https://localhost:8080/",
          "height": 134
        },
        "outputId": "f1e3927d-d19f-43f1-97fa-00a20ddd42cc"
      },
      "source": [
        "model.predict(x)"
      ],
      "execution_count": 423,
      "outputs": [
        {
          "output_type": "execute_result",
          "data": {
            "text/plain": [
              "array([[0.7961548 ],\n",
              "       [0.01726478],\n",
              "       [0.09682101],\n",
              "       ...,\n",
              "       [0.01094341],\n",
              "       [0.31033534],\n",
              "       [0.12660703]], dtype=float32)"
            ]
          },
          "metadata": {
            "tags": []
          },
          "execution_count": 423
        }
      ]
    },
    {
      "cell_type": "code",
      "metadata": {
        "id": "pVulbAp7KU_e",
        "colab_type": "code",
        "colab": {}
      },
      "source": [
        ""
      ],
      "execution_count": 0,
      "outputs": []
    }
  ]
}