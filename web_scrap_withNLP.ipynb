{
  "nbformat": 4,
  "nbformat_minor": 0,
  "metadata": {
    "colab": {
      "name": "web_scrap_withNLP.ipynb",
      "version": "0.3.2",
      "provenance": [],
      "collapsed_sections": [],
      "include_colab_link": true
    },
    "kernelspec": {
      "name": "python3",
      "display_name": "Python 3"
    }
  },
  "cells": [
    {
      "cell_type": "markdown",
      "metadata": {
        "id": "view-in-github",
        "colab_type": "text"
      },
      "source": [
        "<a href=\"https://colab.research.google.com/github/sid0310/ml/blob/sml/web_scrap_withNLP.ipynb\" target=\"_parent\"><img src=\"https://colab.research.google.com/assets/colab-badge.svg\" alt=\"Open In Colab\"/></a>"
      ]
    },
    {
      "cell_type": "code",
      "metadata": {
        "id": "E-spKhypDA2q",
        "colab_type": "code",
        "colab": {}
      },
      "source": [
        "import requests"
      ],
      "execution_count": 0,
      "outputs": []
    },
    {
      "cell_type": "code",
      "metadata": {
        "id": "WddGkkc_DEFa",
        "colab_type": "code",
        "colab": {}
      },
      "source": [
        "webdata=requests.get('https://php.net/')"
      ],
      "execution_count": 0,
      "outputs": []
    },
    {
      "cell_type": "code",
      "metadata": {
        "id": "MhI5fWtrDTzv",
        "colab_type": "code",
        "outputId": "26d131ba-ab16-43b0-aad9-dd15e7e0440f",
        "colab": {
          "base_uri": "https://localhost:8080/",
          "height": 34
        }
      },
      "source": [
        "webdata"
      ],
      "execution_count": 0,
      "outputs": [
        {
          "output_type": "execute_result",
          "data": {
            "text/plain": [
              "<Response [200]>"
            ]
          },
          "metadata": {
            "tags": []
          },
          "execution_count": 12
        }
      ]
    },
    {
      "cell_type": "code",
      "metadata": {
        "id": "69pN5_yQDmTy",
        "colab_type": "code",
        "colab": {}
      },
      "source": [
        "htmldata=webdata.text"
      ],
      "execution_count": 0,
      "outputs": []
    },
    {
      "cell_type": "code",
      "metadata": {
        "id": "ttOBprOrEW6G",
        "colab_type": "code",
        "colab": {}
      },
      "source": [
        "from bs4 import BeautifulSoup"
      ],
      "execution_count": 0,
      "outputs": []
    },
    {
      "cell_type": "code",
      "metadata": {
        "id": "IX4YL5toEYXf",
        "colab_type": "code",
        "colab": {}
      },
      "source": [
        "soup=BeautifulSoup(htmldata,'html5lib')"
      ],
      "execution_count": 0,
      "outputs": []
    },
    {
      "cell_type": "code",
      "metadata": {
        "id": "7rrED963GXa1",
        "colab_type": "code",
        "colab": {}
      },
      "source": [
        ""
      ],
      "execution_count": 0,
      "outputs": []
    },
    {
      "cell_type": "code",
      "metadata": {
        "id": "frGtDUEfGYsT",
        "colab_type": "code",
        "colab": {}
      },
      "source": [
        "clean_data=soup.get_text()"
      ],
      "execution_count": 0,
      "outputs": []
    },
    {
      "cell_type": "code",
      "metadata": {
        "id": "jiSwzhRFGpBj",
        "colab_type": "code",
        "outputId": "4358f9a4-ead9-46c5-a05e-8e1b3ce28d07",
        "colab": {
          "base_uri": "https://localhost:8080/",
          "height": 54
        }
      },
      "source": [
        "clean_data"
      ],
      "execution_count": 0,
      "outputs": [
        {
          "output_type": "execute_result",
          "data": {
            "text/plain": [
              "\"\\n\\n  \\n  \\n\\n  PHP: Hypertext Preprocessor\\n\\n \\n \\n \\n \\n\\n \\n \\n \\n\\n\\n\\n\\n\\n\\n\\n\\n\\n \\n\\n \\n\\n \\n\\n \\n\\n \\n\\n\\n\\n\\n\\n  \\n    \\n    \\n    \\n    \\n      Downloads\\n      Documentation\\n      Get Involved\\n      Help\\n    \\n    \\n      \\n      \\n    \\n  \\n  \\n\\n\\nGetting Started\\n\\tIntroduction\\n\\tA simple tutorial\\nLanguage Reference\\n\\tBasic syntax\\n\\tTypes\\n\\tVariables\\n\\tConstants\\n\\tExpressions\\n\\tOperators\\n\\tControl Structures\\n\\tFunctions\\n\\tClasses and Objects\\n\\tNamespaces\\n\\tErrors\\n\\tExceptions\\n\\tGenerators\\n\\tReferences Explained\\n\\tPredefined Variables\\n\\tPredefined Exceptions\\n\\tPredefined Interfaces and Classes\\n\\tContext options and parameters\\n\\tSupported Protocols and Wrappers\\n\\n\\nSecurity\\n\\tIntroduction\\n\\tGeneral considerations\\n\\tInstalled as CGI binary\\n\\tInstalled as an Apache module\\n\\tSession Security\\n\\tFilesystem Security\\n\\tDatabase Security\\n\\tError Reporting\\n\\tUsing Register Globals\\n\\tUser Submitted Data\\n\\tMagic Quotes\\n\\tHiding PHP\\n\\tKeeping Current\\nFeatures\\n\\tHTTP authentication with PHP\\n\\tCookies\\n\\tSessions\\n\\tDealing with XForms\\n\\tHandling file uploads\\n\\tUsing remote files\\n\\tConnection handling\\n\\tPersistent Database Connections\\n\\tSafe Mode\\n\\tCommand line usage\\n\\tGarbage Collection\\n\\tDTrace Dynamic Tracing\\n\\n\\nFunction Reference\\n\\tAffecting PHP's Behaviour\\n\\tAudio Formats Manipulation\\n\\tAuthentication Services\\n\\tCommand Line Specific Extensions\\n\\tCompression and Archive Extensions\\n\\tCredit Card Processing\\n\\tCryptography Extensions\\n\\tDatabase Extensions\\n\\tDate and Time Related Extensions\\n\\tFile System Related Extensions\\n\\tHuman Language and Character Encoding Support\\n\\tImage Processing and Generation\\n\\tMail Related Extensions\\n\\tMathematical Extensions\\n\\tNon-Text MIME Output\\n\\tProcess Control Extensions\\n\\tOther Basic Extensions\\n\\tOther Services\\n\\tSearch Engine Extensions\\n\\tServer Specific Extensions\\n\\tSession Extensions\\n\\tText Processing\\n\\tVariable and Type Related Extensions\\n\\tWeb Services\\n\\tWindows Only Extensions\\n\\tXML Manipulation\\n\\tGUI Extensions\\n\\n\\nKeyboard Shortcuts?\\nThis help\\nj\\nNext menu item\\nk\\nPrevious menu item\\ng p\\nPrevious man page\\ng n\\nNext man page\\nG\\nScroll to bottom\\ng g\\nScroll to top\\ng h\\nGoto homepage\\ng s\\nGoto search(current page)\\n/\\nFocus search box\\n\\n\\n    \\n         \\n         \\n   \\n\\n\\n\\n\\n\\n  \\n      \\n    \\n      PHP is a popular general-purpose scripting language that is especially suited to web development.\\n      Fast, flexible and pragmatic, PHP powers everything from your blog to the most popular websites in the world.\\n    \\n    \\n      Download\\n\\n            7.1.30·Release Notes·Upgrading\\n\\n            7.2.19·Release Notes·Upgrading\\n\\n            7.3.6·Release Notes·Upgrading\\n\\n    \\n    \\n\\n\\n\\n\\n  \\n\\n  \\n    26 Jun 2019\\n    \\n      PHP 7.4.0 alpha 2 Released\\n    \\n  \\n  \\n    \\n     \\n     PHP team is glad to announce the release of the second PHP 7.4.0 version, PHP 7.4.0 Alpha 2.\\n     This continues the PHP 7.4 release cycle, the rough outline of which is specified in the\\n     PHP Wiki.\\n     \\n     \\n     For source downloads of PHP 7.4.0 Alpha 2 please visit the download page.\\n     \\n     \\n     Please carefully test this version and report any issues found in the bug reporting system.\\n     \\n     \\n     \\n     Please DO NOT use this version in production, it is an early test version.\\n     \\n     \\n     \\n         For more information on the new features and other changes, you can read the\\n         NEWS file,\\n         or the UPGRADING\\n         file for a complete list of upgrading notes. These files can also be found in the release archive.\\n     \\n     \\n     \\n     The next release would be Alpha 3, planned for July 11th.\\n     \\n     \\n     The signatures for the release can be found in the manifest or on the\\n     QA site.\\n     \\n     \\n     Thank you for helping us make PHP better.\\n    \\n  \\n  \\n\\n  \\n    13 Jun 2019\\n    \\n      PHP 7.4.0 alpha 1 Released\\n    \\n  \\n  \\n    \\n     \\n     PHP team is glad to announce the release of the first PHP 7.4.0 version, PHP 7.4.0 Alpha 1.\\n     This starts the PHP 7.4 release cycle, the rough outline of which is specified in the\\n     PHP Wiki.\\n     \\n     \\n     For source downloads of PHP 7.4.0 Alpha 1 please visit the download page.\\n     \\n     \\n     Please carefully test this version and report any issues found in the bug reporting system.\\n     \\n     \\n     \\n     Please DO NOT use this version in production, it is an early test version.\\n     \\n     \\n     \\n         For more information on the new features and other changes, you can read the\\n         NEWS file,\\n         or the UPGRADING\\n         file for a complete list of upgrading notes. These files can also be found in the release archive.\\n     \\n     \\n     \\n     The next release would be Alpha 2, planned for June 27.\\n     \\n     \\n     The signatures for the release can be found in the manifest or on the\\n     QA site.\\n     \\n     \\n     Thank you for helping us make PHP better.\\n    \\n  \\n  \\n\\n  \\n    30 May 2019\\n    \\n      PHP 7.1.30 Released\\n    \\n  \\n  \\n    \\n       The PHP development team announces the immediate availability of PHP\\n       7.1.30. This is a security release.\\n     \\n       All PHP 7.1 users are encouraged to upgrade to this version.\\n     \\n       For source downloads of PHP 7.1.30 please visit our downloads page,\\n       Windows source and binaries can be found on windows.php.net/download/.\\n       The list of changes is recorded in the ChangeLog.\\n       \\n    \\n  \\n  \\n\\n  \\n    30 May 2019\\n    \\n      PHP 7.2.19 Release Announcement\\n    \\n  \\n  \\n    \\n     The PHP development team announces the immediate availability of PHP 7.2.19.\\n     This is a security release which also contains several minor bug fixes.\\n     \\n     All PHP 7.2 users are encouraged to upgrade to this version.\\n     \\n     For source downloads of PHP 7.2.19 please visit our downloads page,\\n     Windows source and binaries can be found on windows.php.net/download/.\\n     The list of changes is recorded in the ChangeLog.\\n     \\n    \\n  \\n  \\n\\n  \\n    30 May 2019\\n    \\n      PHP 7.3.6 Release Announcement\\n    \\n  \\n  \\n    \\n      The PHP development team announces the immediate availability of PHP\\n      7.3.6. This is a security release which also contains several bug fixes.\\n\\n      All PHP 7.3 users are encouraged to upgrade to this version.\\n\\n      For source downloads of PHP 7.3.6 please visit our downloads page,\\n      Windows source and binaries can be found on windows.php.net/download/.\\n      The list of changes is recorded in the ChangeLog.\\n      \\n    \\n  \\n  \\n\\n  \\n    03 May 2019\\n    \\n      PHP 7.1.29 Released\\n    \\n  \\n  \\n    \\n       The PHP development team announces the immediate availability of PHP\\n       7.1.29. This is a security release.\\n     \\n       All PHP 7.1 users are encouraged to upgrade to this version.\\n     \\n       For source downloads of PHP 7.1.29 please visit our downloads page,\\n       Windows source and binaries can be found on windows.php.net/download/.\\n       The list of changes is recorded in the ChangeLog.\\n       \\n    \\n  \\n  \\n\\n  \\n    02 May 2019\\n    \\n      PHP 7.2.18 Released\\n    \\n  \\n  \\n    \\n     The PHP development team announces the immediate availability of PHP\\n     7.2.18. This is a security release which also contains several minor bug fixes.\\n\\n     All PHP 7.2 users are encouraged to upgrade to this version.\\n\\n     For source downloads of PHP 7.2.18 please visit our downloads page,\\n     Windows source and binaries can be found on windows.php.net/download/.\\n     The list of changes is recorded in the ChangeLog.\\n     \\n    \\n  \\n  \\n\\n  \\n    02 May 2019\\n    \\n      PHP 7.3.5 Release Announcement\\n    \\n  \\n  \\n    \\n      The PHP development team announces the immediate availability of PHP\\n      7.3.5. This is a security release which also contains several bug fixes.\\n\\n      All PHP 7.3 users are encouraged to upgrade to this version.\\n\\n      For source downloads of PHP 7.3.5 please visit our downloads page,\\n      Windows source and binaries can be found on windows.php.net/download/.\\n      The list of changes is recorded in the ChangeLog.\\n      \\n    \\n  \\n  \\n\\n  \\n    22 Nov 2018\\n    \\n      PHP 7.3.0RC6 Released\\n    \\n  \\n  \\n    \\n      \\n        The PHP team is glad to announce the presumably last PHP 7.3.0 pre-release, PHP 7.3.0RC6.\\n        The rough outline of the PHP 7.3 release cycle is specified in the\\n        PHP Wiki.\\n      \\n\\n      \\n        For source downloads of PHP 7.3.0RC6 please visit the download page.\\n        Windows sources and binaries can be found on windows.php.net/qa/.\\n      \\n\\n      \\n        Please carefully test this version and report any issues found in the bug reporting system.\\n      \\n\\n      \\n        THIS IS A DEVELOPMENT PREVIEW - DO NOT USE IT IN PRODUCTION!\\n      \\n\\n      \\n        For more information on the new features and other changes, you can read the\\n        NEWS file,\\n        or the UPGRADING\\n        file for a complete list of upgrading notes. Internal changes are listed in the\\n        UPGRADING.INTERNALS file.\\n        These files can also be found in the release archive.\\n      \\n\\n      \\n        The next release would be 7.3.0 (GA), planned for December 6th.\\n      \\n\\n      \\n        The signatures for the release can be found in the manifest\\n        or on the QA site.\\n      \\n\\n      \\n        Thank you for helping us make PHP better.\\n      \\n    \\n  \\n  \\n\\n  \\n    08 Nov 2018\\n    \\n      PHP 7.3.0RC5 Released\\n    \\n  \\n  \\n    \\n      \\n        The PHP team is glad to announce the next PHP 7.3.0 pre-release, PHP 7.3.0RC5.\\n        The rough outline of the PHP 7.3 release cycle is specified in the\\n        PHP Wiki.\\n      \\n\\n      \\n        For source downloads of PHP 7.3.0RC5 please visit the download page.\\n        Windows sources and binaries can be found on windows.php.net/qa/.\\n      \\n\\n      \\n        Please carefully test this version and report any issues found in the bug reporting system.\\n      \\n\\n      \\n        THIS IS A DEVELOPMENT PREVIEW - DO NOT USE IT IN PRODUCTION!\\n      \\n\\n      \\n        For more information on the new features and other changes, you can read the\\n        NEWS file,\\n        or the UPGRADING\\n        file for a complete list of upgrading notes. Internal changes are listed in the\\n        UPGRADING.INTERNALS file.\\n        These files can also be found in the release archive.\\n      \\n\\n      \\n        The next release would be RC6, planned for November 22nd.\\n      \\n\\n      \\n        The signatures for the release can be found in the manifest\\n        or on the QA site.\\n      \\n\\n      \\n        Thank you for helping us make PHP better.\\n      \\n    \\n  \\n  \\n\\n  \\n    25 Oct 2018\\n    \\n      PHP 7.3.0RC4 Released\\n    \\n  \\n  \\n    \\n      \\n        The PHP team is glad to announce the next PHP 7.3.0 pre-release, PHP 7.3.0RC4.\\n        The rough outline of the PHP 7.3 release cycle is specified in the\\n        PHP Wiki.\\n      \\n\\n      \\n        For source downloads of PHP 7.3.0RC4 please visit the download page.\\n        Windows sources and binaries can be found on windows.php.net/qa/.\\n      \\n\\n      \\n        Please carefully test this version and report any issues found in the bug reporting system.\\n      \\n\\n      \\n        THIS IS A DEVELOPMENT PREVIEW - DO NOT USE IT IN PRODUCTION!\\n      \\n\\n      \\n        For more information on the new features and other changes, you can read the\\n        NEWS file,\\n        or the UPGRADING\\n        file for a complete list of upgrading notes. Internal changes are listed in the\\n        UPGRADING.INTERNALS file.\\n        These files can also be found in the release archive.\\n      \\n\\n      \\n        The next release would be RC5, planned for November 8th.\\n      \\n\\n      \\n        The signatures for the release can be found in the manifest\\n        or on the QA site.\\n      \\n\\n      \\n        Thank you for helping us make PHP better.\\n      \\n    \\n  \\n  \\n\\n  \\n    11 Oct 2018\\n    \\n      PHP 7.3.0RC3 Released\\n    \\n  \\n  \\n    \\n      \\n        The PHP team is glad to announce the next PHP 7.3.0 pre-release, PHP 7.3.0RC3.\\n        The rough outline of the PHP 7.3 release cycle is specified in the\\n        PHP Wiki.\\n      \\n\\n      \\n        For source downloads of PHP 7.3.0RC3 please visit the download page.\\n        Windows sources and binaries can be found on windows.php.net/qa/.\\n      \\n\\n      \\n        Please carefully test this version and report any issues found in the bug reporting system.\\n      \\n\\n      \\n        THIS IS A DEVELOPMENT PREVIEW - DO NOT USE IT IN PRODUCTION!\\n      \\n\\n      \\n        For more information on the new features and other changes, you can read the\\n        NEWS file,\\n        or the UPGRADING\\n        file for a complete list of upgrading notes. Internal changes are listed in the\\n        UPGRADING.INTERNALS file.\\n        These files can also be found in the release archive.\\n      \\n\\n      \\n        The next release would be RC4, planned for October 25th.\\n      \\n\\n      \\n        The signatures for the release can be found in the manifest\\n        or on the QA site.\\n      \\n\\n      \\n        Thank you for helping us make PHP better.\\n      \\n    \\n  \\n  \\n\\n  \\n    28 Sep 2018\\n    \\n      PHP 7.3.0RC2 Released\\n    \\n  \\n  \\n    \\n      \\n        The PHP team is glad to announce the next PHP 7.3.0 pre-release, PHP 7.3.0RC2.\\n        The rough outline of the PHP 7.3 release cycle is specified in the\\n        PHP Wiki.\\n      \\n\\n      \\n        For source downloads of PHP 7.3.0RC2 please visit the download page.\\n        Windows sources and binaries can be found on windows.php.net/qa/.\\n      \\n\\n      \\n        Please carefully test this version and report any issues found in the bug reporting system.\\n      \\n\\n      \\n        THIS IS A DEVELOPMENT PREVIEW - DO NOT USE IT IN PRODUCTION!\\n      \\n\\n      \\n        For more information on the new features and other changes, you can read the\\n        NEWS file,\\n        or the UPGRADING\\n        file for a complete list of upgrading notes. Internal changes are listed in the\\n        UPGRADING.INTERNALS file.\\n        These files can also be found in the release archive.\\n      \\n\\n      \\n        The next release would be RC3, planned for October 11th.\\n      \\n\\n      \\n        The signatures for the release can be found in the manifest\\n        or on the QA site.\\n      \\n\\n      \\n        Thank you for helping us make PHP better.\\n      \\n    \\n  \\n  \\n\\n  \\n    13 Sep 2018\\n    \\n      PHP 7.3.0RC1 Released\\n    \\n  \\n  \\n    \\n      \\n        The PHP team is glad to announce the release of the next PHP 7.3.0 pre-release, PHP 7.3.0RC1.\\n        The rough outline of the PHP 7.3 release cycle is specified in the\\n        PHP Wiki.\\n      \\n\\n      \\n        For source downloads of PHP 7.3.0RC1 please visit the download page.\\n        Windows sources and binaries can be found on windows.php.net/qa/.\\n      \\n\\n      \\n        Please carefully test this version and report any issues found in the bug reporting system.\\n      \\n\\n      \\n        THIS IS A DEVELOPMENT PREVIEW - DO NOT USE IT IN PRODUCTION!\\n      \\n\\n      \\n        For more information on the new features and other changes, you can read the\\n        NEWS file,\\n        or the UPGRADING\\n        file for a complete list of upgrading notes. Internal changes are listed in the\\n        UPGRADING.INTERNALS file.\\n        These files can also be found in the release archive.\\n      \\n\\n      \\n        The next release would be RC2, planned for September 27th.\\n      \\n\\n      \\n        The signatures for the release can be found in the manifest\\n        or on the QA site.\\n      \\n\\n      \\n        Thank you for helping us make PHP better.\\n      \\n    \\n  \\n  \\n\\n  \\n    30 Aug 2018\\n    \\n      PHP 7.3.0.beta3 Released\\n    \\n  \\n  \\n    \\n      \\n        The PHP team is glad to announce the release of the seventh PHP 7.3.0 version, PHP 7.3.0beta3.\\n        The rough outline of the PHP 7.3 release cycle is specified in the\\n        PHP Wiki.\\n      \\n\\n      \\n        For source downloads of PHP 7.3.0beta3 please visit the download page.\\n        Windows sources and binaries can be found on windows.php.net/qa/.\\n      \\n\\n      \\n        Please carefully test this version and report any issues found in the bug reporting system.\\n      \\n\\n      \\n        THIS IS A DEVELOPMENT PREVIEW - DO NOT USE IT IN PRODUCTION!\\n      \\n\\n      \\n        For more information on the new features and other changes, you can read the\\n        NEWS file,\\n        or the UPGRADING\\n        file for a complete list of upgrading notes. Internal changes are listed in the\\n        UPGRADING.INTERNALS file.\\n        These files can also be found in the release archive.\\n      \\n\\n      \\n        The next release would be RC1, planned for September 13th.\\n      \\n\\n      \\n        The signatures for the release can be found in the manifest\\n        or on the QA site.\\n      \\n\\n      \\n        Thank you for helping us make PHP better.\\n      \\n    \\n  \\n  \\n\\n  \\n    16 Aug 2018\\n    \\n      PHP 7.3.0.beta2 Released\\n    \\n  \\n  \\n    \\n      \\n        The PHP team is glad to announce the release of the sixth PHP 7.3.0 version, PHP 7.3.0beta2.\\n        The rough outline of the PHP 7.3 release cycle is specified in the\\n        PHP Wiki.\\n      \\n\\n      \\n        For source downloads of PHP 7.3.0beta2 please visit the download page.\\n        Windows sources and binaries can be found on windows.php.net/qa/.\\n      \\n\\n      \\n        Please carefully test this version and report any issues found in the bug reporting system.\\n      \\n\\n      \\n        THIS IS A DEVELOPMENT PREVIEW - DO NOT USE IT IN PRODUCTION!\\n      \\n\\n      \\n        For more information on the new features and other changes, you can read the\\n        NEWS file,\\n        or the UPGRADING\\n        file for a complete list of upgrading notes. Internal changes are listed in the\\n        UPGRADING.INTERNALS file.\\n        These files can also be found in the release archive.\\n      \\n\\n      \\n        The next release would be Beta 3, planned for August 30th.\\n      \\n\\n      \\n        The signatures for the release can be found in the manifest\\n        or on the QA site.\\n      \\n\\n      \\n        Thank you for helping us make PHP better.\\n      \\n    \\n  \\n  \\n\\n  \\n    02 Aug 2018\\n    \\n      PHP 7.3.0.beta1 Released\\n    \\n  \\n  \\n    \\n      \\n        The PHP team is glad to announce the release of the fifth PHP 7.3.0 version, PHP 7.3.0beta1.\\n        The rough outline of the PHP 7.3 release cycle is specified in the\\n        PHP Wiki.\\n      \\n\\n      \\n        For source downloads of PHP 7.3.0beta1 please visit the download page.\\n        Windows sources and binaries can be found on windows.php.net/qa/.\\n      \\n\\n      \\n        Please carefully test this version and report any issues found in the bug reporting system.\\n      \\n\\n      \\n        THIS IS A DEVELOPMENT PREVIEW - DO NOT USE IT IN PRODUCTION!\\n      \\n\\n      \\n        For more information on the new features and other changes, you can read the\\n        NEWS file,\\n        or the UPGRADING\\n        file for a complete list of upgrading notes. These files can also be found in the release archive.\\n      \\n\\n      \\n        The next release would be Beta 2, planned for August 16th.\\n      \\n\\n      \\n        The signatures for the release can be found in the manifest\\n        or on the QA site.\\n      \\n\\n      \\n        Thank you for helping us make PHP better.\\n      \\n\\n    \\n  \\n  \\n\\n  \\n    19 Jul 2018\\n    \\n      PHP 7.3.0alpha4 Released\\n    \\n  \\n  \\n    \\n      \\n        The PHP team is glad to announce the release of the fourth PHP 7.3.0 version, PHP 7.3.0alpha4.\\n        The rough outline of the PHP 7.3 release cycle is specified in the\\n        PHP Wiki.\\n      \\n\\n      \\n        For source downloads of PHP 7.3.0alpha4 please visit the download page.\\n        Windows sources and binaries can be found on windows.php.net/qa/.\\n      \\n\\n      \\n        Please carefully test this version and report any issues found in the bug reporting system.\\n      \\n\\n      \\n        THIS IS A DEVELOPMENT PREVIEW - DO NOT USE IT IN PRODUCTION!\\n      \\n\\n      \\n        For more information on the new features and other changes, you can read the\\n        NEWS file,\\n        or the UPGRADING\\n        file for a complete list of upgrading notes. These files can also be found in the release archive.\\n      \\n\\n      \\n        The next release would be Beta 1, planned for August 2nd.\\n      \\n\\n      \\n        The signatures for the release can be found in the manifest or on the QA site.\\n      \\n\\n      \\n        Thank you for helping us make PHP better.\\n      \\n    \\n  \\n  \\n\\n  \\n    05 Jul 2018\\n    \\n      PHP 7.3.0 alpha 3 Released\\n    \\n  \\n  \\n    \\n     \\n      The PHP team is glad to announce the release of the third PHP 7.3.0 version, PHP 7.3.0 Alpha 3.\\n      The rough outline of the PHP 7.3 release cycle is specified in the\\n      PHP Wiki.\\n     \\n\\n     \\n      For source downloads of PHP 7.3.0 Alpha 3 please visit the download page.\\n      Windows sources and binaries can be found on windows.php.net/qa/.\\n     \\n\\n     \\n      Please carefully test this version and report any issues found in the bug reporting system.\\n     \\n\\n     \\n      THIS IS A DEVELOPMENT PREVIEW - DO NOT USE IT IN PRODUCTION!\\n     \\n\\n     \\n      For more information on the new features and other changes, you can read the\\n      NEWS file,\\n      or the UPGRADING\\n      file for a complete list of upgrading notes. These files can also be found in the release archive.\\n     \\n\\n     \\n      The next release would be Beta 1, planned for July 19th.\\n     \\n\\n     \\n      The signatures for the release can be found in the manifest or on the QA site.\\n     \\n\\n     \\n      Thank you for helping us make PHP better.\\n     \\n    \\n  \\n  \\n\\n  \\n    21 Jun 2018\\n    \\n      PHP 7.3.0 alpha 2 Released\\n    \\n  \\n  \\n    \\n     \\n      The PHP team is glad to announce the release of the second PHP 7.3.0 version, PHP 7.3.0 Alpha 2.\\n      The rough outline of the PHP 7.3 release cycle is specified in the\\n      PHP Wiki.\\n     \\n\\n     \\n      For source downloads of PHP 7.3.0 Alpha 2 please visit the download page.\\n      Windows sources and binaries can be found on windows.php.net/qa/.\\n     \\n\\n     \\n      Please carefully test this version and report any issues found in the bug reporting system.\\n     \\n\\n     \\n      THIS IS A DEVELOPMENT PREVIEW - DO NOT USE IT IN PRODUCTION!\\n     \\n\\n     \\n      For more information on the new features and other changes, you can read the\\n      NEWS file,\\n      or the UPGRADING\\n      file for a complete list of upgrading notes. These files can also be found in the release archive.\\n     \\n\\n     \\n      The next release would be Alpha 3, planned for July 5.\\n     \\n\\n     \\n      The signatures for the release can be found in the manifest or on the QA site.\\n     \\n\\n     \\n      Thank you for helping us make PHP better.\\n     \\n    \\n  \\n  \\n\\n  \\n    07 Jun 2018\\n    \\n      PHP 7.3.0 alpha 1 Released\\n    \\n  \\n  \\n    \\n     \\n     PHP team is glad to announce the release of the first PHP 7.3.0 version, PHP 7.3.0 Alpha 1.\\n\\t This starts the PHP 7.3 release cycle, the rough outline of which is specified in the\\n\\t PHP Wiki.\\n     \\n\\n     For source downloads of PHP 7.3.0 Alpha 1 please visit the download page.\\n\\n     \\n     Please carefully test this version and report any issues found in the bug reporting system.\\n     \\n\\n     \\n     Please DO NOT use this version in production, it is an early test version.\\n     \\n\\n     \\n\\t     For more information on the new features and other changes, you can read the\\n\\t     NEWS file,\\n\\t     or the UPGRADING\\n\\t     file for a complete list of upgrading notes. These files can also be found in the release archive.\\n\\t \\n\\n     \\n     The next release would be Alpha 2, planned for June 21.\\n     \\n\\n     The signatures for the release can be found in the manifest or on the QA site.\\n     \\n\\n     Thank you for helping us make PHP better.\\n    \\n  \\n  \\n\\n  \\n    01 Feb 2018\\n    \\n      PHP 7.2.2 Released\\n    \\n  \\n  \\n    \\n      The PHP development team announces the immediate availability of PHP\\n      7.2.2. This is a bugfix release, with several bug fixes included.\\n\\n      All PHP 7.2 users are encouraged to upgrade to this version.\\n\\n      For source downloads of PHP 7.2.2 please visit our downloads page,\\n      Windows source and binaries can be found on windows.php.net/download/.\\n      The list of changes is recorded in the ChangeLog.\\n      \\n    \\n  \\n  \\n\\n  \\n    12 Oct 2017\\n    \\n      PHP 7.2.0 Release Candidate 4 Released\\n    \\n  \\n  \\n    \\n     \\n     The PHP development team announces the immediate availability of PHP 7.2.0 RC4.\\n     This release is the fourth Release Candidate for 7.2.0.\\n     All users of PHP are encouraged to test this version carefully, and report any bugs\\n     and incompatibilities in the bug tracking system.\\n     \\n\\n     THIS IS A DEVELOPMENT PREVIEW - DO NOT USE IT IN PRODUCTION!\\n\\n     \\n     For more information on the new features and other changes, you can read the\\n     NEWS file,\\n     or the UPGRADING\\n     file for a complete list of upgrading notes. These files can also be found in the release archive.\\n     \\n\\n     \\n     For source downloads of PHP 7.2.0 Release Candidate 4 please visit the\\n     download page,\\n     Windows sources and binaries can be found at\\n     windows.php.net/qa/.\\n     \\n\\n     \\n     The next Release Candidate will be announced on the 26th of October.\\n     You can also read the full list of planned releases on\\n     our wiki.\\n     \\n\\n     Thank you for helping us make PHP better.\\n    \\n  \\n  \\n\\n  \\n    28 Sep 2017\\n    \\n      PHP 7.2.0 Release Candidate 3 Released\\n    \\n  \\n  \\n    \\n     \\n     The PHP development team announces the immediate availability of PHP 7.2.0 RC3.\\n     This release is the third Release Candidate for 7.2.0.\\n     All users of PHP are encouraged to test this version carefully, and report any bugs\\n     and incompatibilities in the bug tracking system.\\n     \\n\\n     THIS IS A DEVELOPMENT PREVIEW - DO NOT USE IT IN PRODUCTION!\\n\\n     \\n     For more information on the new features and other changes, you can read the\\n     NEWS file,\\n     or the UPGRADING\\n     file for a complete list of upgrading notes. These files can also be found in the release archive.\\n     \\n\\n     \\n     For source downloads of PHP 7.2.0 Release Candidate 3 please visit the\\n     download page,\\n     Windows sources and binaries can be found at\\n     windows.php.net/qa/.\\n     \\n\\n     \\n     The next Release Candidate will be announced on the 12th of October.\\n     You can also read the full list of planned releases on\\n     our wiki.\\n     \\n\\n     Thank you for helping us make PHP better.\\n    \\n  \\n  \\n\\n  \\n    31 Aug 2017\\n    \\n      PHP 7.2.0 Release Candidate 1 Released\\n    \\n  \\n  \\n    \\n      \\n      The PHP development team announces the immediate availability of PHP 7.2.0 Release\\n      Candidate 1. This release is the first Release Candidate for 7.2.0.\\n      All users of PHP are encouraged to test this version carefully, and report any bugs\\n      and incompatibilities in the bug tracking system.\\n      \\n\\n      THIS IS A DEVELOPMENT PREVIEW - DO NOT USE IT IN PRODUCTION!\\n\\n      \\n      For more information on the new features and other changes, you can read the\\n      NEWS file,\\n      or the UPGRADING\\n      file for a complete list of upgrading notes. These files can also be found in the release archive.\\n      \\n\\n      \\n      For source downloads of PHP 7.2.0 Release Candidate 1 please visit the\\n      download page,\\n      Windows sources and binaries can be found at\\n      windows.php.net/qa/.\\n      \\n\\n      \\n      The second Release Candidate will be released on the 14th of September.\\n      You can also read the full list of planned releases on\\n      our wiki.\\n      \\n\\n      Thank you for helping us make PHP better.\\n    \\n  \\n  \\n\\n  \\n    17 Aug 2017\\n    \\n      PHP 7.2.0 Beta 3 Released\\n    \\n  \\n  \\n    \\n      \\n      The PHP development team announces the immediate availability of PHP 7.2.0 Beta 3.\\n      This release is the third and final beta for 7.2.0. All users of PHP are encouraged\\n      to test this version carefully, and report any bugs and incompatibilities in the\\n      bug tracking system.\\n      \\n\\n      THIS IS A DEVELOPMENT PREVIEW - DO NOT USE IT IN PRODUCTION!\\n\\n      \\n      For more information on the new features and other changes, you can read the\\n      NEWS file,\\n      or the UPGRADING\\n      file for a complete list of upgrading notes. These files can also be found in the release archive.\\n      \\n\\n      \\n      For source downloads of PHP 7.2.0 Beta 3 please visit the\\n      download page,\\n      Windows sources and binaries can be found at\\n      windows.php.net/qa/.\\n      \\n\\n      \\n      The first Release Candidate will be released on the 31th of August.\\n      You can also read the full list of planned releases on\\n      our wiki.\\n      \\n\\n      Thank you for helping us make PHP better.\\n    \\n  \\n  \\n\\n  \\n    06 Jul 2017\\n    \\n      PHP 7.2.0 Alpha 3 Released\\n    \\n  \\n  \\n    \\n     The PHP development team announces the immediate availability of PHP 7.2.0 Alpha 3.\\n     This release contains fixes and improvements relative to Alpha 2.\\n     All users of PHP are encouraged to test this version carefully,\\n     and report any bugs and incompatibilities in the\\n     bug tracking system.\\n\\n     THIS IS A DEVELOPMENT PREVIEW - DO NOT USE IT IN PRODUCTION!\\n\\n     For information on new features and other changes, you can read the\\n     NEWS file,\\n     or the UPGRADING file\\n     for a complete list of upgrading notes. These files can also be found in the release archive.\\n\\n     For source downloads of PHP 7.2.0 Alpha 3 please visit the download page,\\n     Windows sources and binaries can be found on windows.php.net/qa/.\\n\\n     The first beta will be released on the 20th of July. You can also read the full list of planned releases on our\\n     wiki.\\n\\n     Thank you for helping us make PHP better.\\n    \\n  \\n  \\nOlder News Entries    \\n    \\n\\n    \\n  Upcoming conferencesThe 7th Annual China PHP ConferenceLaravelConf Taiwan 2019 announcementInternational PHP Conference 2019 - Fall EditionCakeFest 2019 Tokyo Japan, the Official CakePHP Conference\\n    User Group Events\\n    Special Thanks\\n    \\n      Social media\\n      \\n        \\n          \\n            \\n              \\n              @official_php\\n            \\n          \\n        \\n      \\n    \\n\\n\\n\\n  \\n\\n  \\n    \\n      \\n      \\n        Copyright © 2001-2019 The PHP Group\\n        My PHP.net\\n        Contact\\n        Other PHP.net sites\\n        Privacy policy\\n      \\n      \\n    \\n  \\n\\n    \\n \\n \\n\\n\\n\\n\\n\\n\\n\\n\\n\\n\\n\\n\""
            ]
          },
          "metadata": {
            "tags": []
          },
          "execution_count": 18
        }
      ]
    },
    {
      "cell_type": "code",
      "metadata": {
        "id": "xP6GVavjGq4k",
        "colab_type": "code",
        "colab": {}
      },
      "source": [
        "print(clean_data)"
      ],
      "execution_count": 0,
      "outputs": []
    },
    {
      "cell_type": "code",
      "metadata": {
        "id": "EaEk3-28G7Gd",
        "colab_type": "code",
        "colab": {}
      },
      "source": [
        "with open('mywebdata.txt','w+') as f:\n",
        "    f.write(clean_data)"
      ],
      "execution_count": 0,
      "outputs": []
    },
    {
      "cell_type": "code",
      "metadata": {
        "id": "fhhHX25-HcFE",
        "colab_type": "code",
        "colab": {}
      },
      "source": [
        "f=open('mywebdata.txt','r')\n",
        "mydata=f.read()\n",
        "f.close()"
      ],
      "execution_count": 0,
      "outputs": []
    },
    {
      "cell_type": "code",
      "metadata": {
        "id": "_bG4TGXCIGlf",
        "colab_type": "code",
        "outputId": "4c1e1610-ef55-4195-f9a4-e9e150559c0b",
        "colab": {
          "base_uri": "https://localhost:8080/",
          "height": 34
        }
      },
      "source": [
        "type(mydata)"
      ],
      "execution_count": 0,
      "outputs": [
        {
          "output_type": "execute_result",
          "data": {
            "text/plain": [
              "str"
            ]
          },
          "metadata": {
            "tags": []
          },
          "execution_count": 24
        }
      ]
    },
    {
      "cell_type": "code",
      "metadata": {
        "id": "VjWDRZynIKCw",
        "colab_type": "code",
        "colab": {}
      },
      "source": [
        "mydata.split()\n",
        "#split by new line\n",
        "import time\n",
        "newdata=mydata.split()\n",
        "for i in mydata.split():\n",
        "    print(i)\n",
        "    time.sleep(1)"
      ],
      "execution_count": 0,
      "outputs": []
    },
    {
      "cell_type": "code",
      "metadata": {
        "id": "kX_SuqiAIYlb",
        "colab_type": "code",
        "outputId": "bb716120-4b84-45ff-b9c6-77f23ccdc59f",
        "colab": {
          "base_uri": "https://localhost:8080/",
          "height": 34
        }
      },
      "source": [
        "type(newdata)"
      ],
      "execution_count": 0,
      "outputs": [
        {
          "output_type": "execute_result",
          "data": {
            "text/plain": [
              "list"
            ]
          },
          "metadata": {
            "tags": []
          },
          "execution_count": 31
        }
      ]
    },
    {
      "cell_type": "code",
      "metadata": {
        "id": "mWAkWcT_JTaU",
        "colab_type": "code",
        "colab": {}
      },
      "source": [
        "#nltk graph\n",
        "import matplotlib.pyplot as plt\n",
        "import nltk"
      ],
      "execution_count": 0,
      "outputs": []
    },
    {
      "cell_type": "code",
      "metadata": {
        "id": "ailUs9TrJgX8",
        "colab_type": "code",
        "colab": {}
      },
      "source": [
        "nlpdata=nltk.FreqDist(newdata)"
      ],
      "execution_count": 0,
      "outputs": []
    },
    {
      "cell_type": "code",
      "metadata": {
        "id": "IUV0QT9bJ2KY",
        "colab_type": "code",
        "outputId": "36b08fb0-e54d-4b0b-b27b-cc7412d40c3e",
        "colab": {
          "base_uri": "https://localhost:8080/",
          "height": 34
        }
      },
      "source": [
        "type(nlpdata)"
      ],
      "execution_count": 0,
      "outputs": [
        {
          "output_type": "execute_result",
          "data": {
            "text/plain": [
              "nltk.probability.FreqDist"
            ]
          },
          "metadata": {
            "tags": []
          },
          "execution_count": 36
        }
      ]
    },
    {
      "cell_type": "code",
      "metadata": {
        "id": "_wRvFl2XKDga",
        "colab_type": "code",
        "outputId": "3601a94f-202a-4791-b995-de1146c349ff",
        "colab": {
          "base_uri": "https://localhost:8080/",
          "height": 310
        }
      },
      "source": [
        "nlpdata.plot(5)"
      ],
      "execution_count": 0,
      "outputs": [
        {
          "output_type": "display_data",
          "data": {
            "image/png": "[encoded data removed]",
            "text/plain": [
              "<Figure size 432x288 with 1 Axes>"
            ]
          },
          "metadata": {
            "tags": []
          }
        }
      ]
    },
    {
      "cell_type": "code",
      "metadata": {
        "id": "Jaqp4U8mKVbk",
        "colab_type": "code",
        "colab": {}
      },
      "source": [
        "#we can remove from newdata then plot the graph"
      ],
      "execution_count": 0,
      "outputs": []
    },
    {
      "cell_type": "code",
      "metadata": {
        "id": "fg6oTzaOKv82",
        "colab_type": "code",
        "colab": {}
      },
      "source": [
        "from nltk.corpus import stopwords"
      ],
      "execution_count": 0,
      "outputs": []
    },
    {
      "cell_type": "code",
      "metadata": {
        "id": "39MeazUEK1Wn",
        "colab_type": "code",
        "colab": {}
      },
      "source": [
        "#stopwords.words('numbers')"
      ],
      "execution_count": 0,
      "outputs": []
    },
    {
      "cell_type": "code",
      "metadata": {
        "id": "MiNNYn6yK63o",
        "colab_type": "code",
        "colab": {}
      },
      "source": [
        "#removing stop words\n",
        "removedata=[i for i in newdata if i.lower() not in stopwords.words('english')]"
      ],
      "execution_count": 0,
      "outputs": []
    },
    {
      "cell_type": "code",
      "metadata": {
        "id": "y--Y9sKQLokh",
        "colab_type": "code",
        "colab": {}
      },
      "source": [
        "newremove=nltk.FreqDist(removedata)"
      ],
      "execution_count": 0,
      "outputs": []
    },
    {
      "cell_type": "code",
      "metadata": {
        "id": "YulGOLh6LxFh",
        "colab_type": "code",
        "outputId": "fb80c15a-9a18-43ef-f603-9529a84406af",
        "colab": {
          "base_uri": "https://localhost:8080/",
          "height": 326
        }
      },
      "source": [
        "newremove.plot(20)"
      ],
      "execution_count": 0,
      "outputs": [
        {
          "output_type": "display_data",
          "data": {
            "image/png": "[encoded data removed]",
            "text/plain": [
              "<Figure size 432x288 with 1 Axes>"
            ]
          },
          "metadata": {
            "tags": []
          }
        }
      ]
    },
    {
      "cell_type": "code",
      "metadata": {
        "id": "M3PerIvOL8L1",
        "colab_type": "code",
        "colab": {}
      },
      "source": [
        ""
      ],
      "execution_count": 0,
      "outputs": []
    }
  ]
}